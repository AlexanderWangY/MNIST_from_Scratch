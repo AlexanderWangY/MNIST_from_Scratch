{
  "nbformat": 4,
  "nbformat_minor": 0,
  "metadata": {
    "colab": {
      "provenance": [],
      "gpuType": "T4",
      "toc_visible": true,
      "authorship_tag": "ABX9TyPivsVqQIqNk63iJY3gxsSN",
      "include_colab_link": true
    },
    "kernelspec": {
      "name": "python3",
      "display_name": "Python 3"
    },
    "language_info": {
      "name": "python"
    },
    "accelerator": "GPU"
  },
  "cells": [
    {
      "cell_type": "markdown",
      "metadata": {
        "id": "view-in-github",
        "colab_type": "text"
      },
      "source": [
        "<a href=\"https://colab.research.google.com/github/AlexanderWangY/MNIST_from_Scratch/blob/main/MNIST_PyTorch.ipynb\" target=\"_parent\"><img src=\"https://colab.research.google.com/assets/colab-badge.svg\" alt=\"Open In Colab\"/></a>"
      ]
    },
    {
      "cell_type": "code",
      "source": [
        "!pip install torch"
      ],
      "metadata": {
        "colab": {
          "base_uri": "https://localhost:8080/"
        },
        "id": "Hr6hZjBxvAxI",
        "outputId": "0ae8706e-34ba-436f-f47f-14c3068aca96"
      },
      "execution_count": null,
      "outputs": [
        {
          "output_type": "stream",
          "name": "stdout",
          "text": [
            "Requirement already satisfied: torch in /usr/local/lib/python3.10/dist-packages (2.1.0+cu121)\n",
            "Requirement already satisfied: filelock in /usr/local/lib/python3.10/dist-packages (from torch) (3.13.1)\n",
            "Requirement already satisfied: typing-extensions in /usr/local/lib/python3.10/dist-packages (from torch) (4.9.0)\n",
            "Requirement already satisfied: sympy in /usr/local/lib/python3.10/dist-packages (from torch) (1.12)\n",
            "Requirement already satisfied: networkx in /usr/local/lib/python3.10/dist-packages (from torch) (3.2.1)\n",
            "Requirement already satisfied: jinja2 in /usr/local/lib/python3.10/dist-packages (from torch) (3.1.3)\n",
            "Requirement already satisfied: fsspec in /usr/local/lib/python3.10/dist-packages (from torch) (2023.6.0)\n",
            "Requirement already satisfied: triton==2.1.0 in /usr/local/lib/python3.10/dist-packages (from torch) (2.1.0)\n",
            "Requirement already satisfied: MarkupSafe>=2.0 in /usr/local/lib/python3.10/dist-packages (from jinja2->torch) (2.1.5)\n",
            "Requirement already satisfied: mpmath>=0.19 in /usr/local/lib/python3.10/dist-packages (from sympy->torch) (1.3.0)\n"
          ]
        }
      ]
    },
    {
      "cell_type": "code",
      "source": [
        "import tensorflow as tf\n",
        "import torch\n",
        "import numpy as np\n",
        "import matplotlib.pyplot as plt"
      ],
      "metadata": {
        "id": "x8a2pboMvH47"
      },
      "execution_count": null,
      "outputs": []
    },
    {
      "cell_type": "code",
      "source": [
        "(x_train, y_train), (x_test, y_test) = tf.keras.datasets.mnist.load_data()\n",
        "(xx_train, yy_train), (xx_test, yy_test) = tf.keras.datasets.mnist.load_data()"
      ],
      "metadata": {
        "id": "MXr59h4ave2j"
      },
      "execution_count": null,
      "outputs": []
    },
    {
      "cell_type": "code",
      "source": [
        "plt.imshow(x_train[0])\n",
        "plt.title(y_train[0])\n",
        "plt.show()"
      ],
      "metadata": {
        "colab": {
          "base_uri": "https://localhost:8080/",
          "height": 452
        },
        "id": "k9x55AyZTq43",
        "outputId": "b2cab947-c086-496b-ad37-a759ac5e0128"
      },
      "execution_count": null,
      "outputs": [
        {
          "output_type": "display_data",
          "data": {
            "text/plain": [
              "<Figure size 640x480 with 1 Axes>"
            ],
            "image/png": "[encoded data removed]"
          },
          "metadata": {}
        }
      ]
    },
    {
      "cell_type": "code",
      "source": [
        "# Flatten and normalize training and testing data to be between 0 and 1\n",
        "x_train = x_train.reshape((60000, -1)) / 255.0\n",
        "x_test = x_test.reshape((10000, -1)) / 255.0\n",
        "\n",
        "# One hot encode training truth values for comparison (no need for validation as we will test with integer)\n",
        "OH_y = np.eye(10)[y_train]"
      ],
      "metadata": {
        "id": "mLbTROsiUEH4"
      },
      "execution_count": null,
      "outputs": []
    },
    {
      "cell_type": "code",
      "source": [
        "# Let's initilaize the weights randomly\n",
        "W = np.random.rand(784, 10)\n",
        "W"
      ],
      "metadata": {
        "id": "4hQ_2YvWU8FR",
        "colab": {
          "base_uri": "https://localhost:8080/"
        },
        "outputId": "1d9e09ef-dff1-4dd6-b4fb-9063e52a3564"
      },
      "execution_count": null,
      "outputs": [
        {
          "output_type": "execute_result",
          "data": {
            "text/plain": [
              "array([[0.24515113, 0.58534445, 0.6341627 , ..., 0.07131101, 0.81146381,\n",
              "        0.72984331],\n",
              "       [0.54064842, 0.15613995, 0.04942956, ..., 0.80260002, 0.60588705,\n",
              "        0.10977945],\n",
              "       [0.75820016, 0.8927823 , 0.32093591, ..., 0.05600363, 0.34016058,\n",
              "        0.02938561],\n",
              "       ...,\n",
              "       [0.05765529, 0.43718171, 0.81497093, ..., 0.235981  , 0.49385301,\n",
              "        0.15974325],\n",
              "       [0.76957733, 0.95402537, 0.30884549, ..., 0.22289326, 0.64925083,\n",
              "        0.20216013],\n",
              "       [0.26995645, 0.65202933, 0.67154364, ..., 0.68298697, 0.11657893,\n",
              "        0.11130898]])"
            ]
          },
          "metadata": {},
          "execution_count": 156
        }
      ]
    },
    {
      "cell_type": "code",
      "source": [
        "# Convert everything to a tensor\n",
        "x_train = torch.tensor(x_train)\n",
        "y_train = torch.tensor(OH_y)\n",
        "W = torch.tensor(W)\n",
        "x_test = torch.tensor(x_test)\n",
        "OH_y = torch.tensor(OH_y)\n",
        "y_test = torch.tensor(y_test)"
      ],
      "metadata": {
        "id": "10nNx7e_XC8w"
      },
      "execution_count": null,
      "outputs": []
    },
    {
      "cell_type": "code",
      "source": [
        "# Activate gradient tracking for weights\n",
        "W.requires_grad_()"
      ],
      "metadata": {
        "colab": {
          "base_uri": "https://localhost:8080/"
        },
        "id": "FNB0F4lMcmtk",
        "outputId": "2a5177b7-f984-4d6c-b52c-3bab1749bd06"
      },
      "execution_count": null,
      "outputs": [
        {
          "output_type": "execute_result",
          "data": {
            "text/plain": [
              "tensor([[0.2452, 0.5853, 0.6342,  ..., 0.0713, 0.8115, 0.7298],\n",
              "        [0.5406, 0.1561, 0.0494,  ..., 0.8026, 0.6059, 0.1098],\n",
              "        [0.7582, 0.8928, 0.3209,  ..., 0.0560, 0.3402, 0.0294],\n",
              "        ...,\n",
              "        [0.0577, 0.4372, 0.8150,  ..., 0.2360, 0.4939, 0.1597],\n",
              "        [0.7696, 0.9540, 0.3088,  ..., 0.2229, 0.6493, 0.2022],\n",
              "        [0.2700, 0.6520, 0.6715,  ..., 0.6830, 0.1166, 0.1113]],\n",
              "       dtype=torch.float64, requires_grad=True)"
            ]
          },
          "metadata": {},
          "execution_count": 158
        }
      ]
    },
    {
      "cell_type": "code",
      "source": [
        "# Ensure proper sizes for matrix multiplication\n",
        "x_train.shape, W.shape"
      ],
      "metadata": {
        "colab": {
          "base_uri": "https://localhost:8080/"
        },
        "id": "pJ4WNWb3vl2x",
        "outputId": "1be349c9-99c0-40c1-dd15-22323f0a1ca7"
      },
      "execution_count": null,
      "outputs": [
        {
          "output_type": "execute_result",
          "data": {
            "text/plain": [
              "(torch.Size([60000, 784]), torch.Size([784, 10]))"
            ]
          },
          "metadata": {},
          "execution_count": 159
        }
      ]
    },
    {
      "cell_type": "code",
      "source": [
        "soft = torch.nn.Softmax(dim=1)\n",
        "\n",
        "# Calculating predictions and activating with Softmax\n",
        "def calc_preds(X, W):\n",
        "  return soft(X @ W)\n",
        "\n",
        "# Calculating the loss value\n",
        "def calc_loss(X, Y, W):\n",
        "  return torch.abs(Y - calc_preds(X, W)).mean()\n",
        "\n",
        "# Validating our accuracy as we train using the validation set!\n",
        "def validate(X_test, Y_test, weights):\n",
        "  preds = torch.argmax((calc_preds(X_test, weights) > 0.5).float(), dim=1)\n",
        "\n",
        "  num_correct = torch.sum(preds == Y_test)\n",
        "\n",
        "  print(f'Accuracy: {(num_correct / X_test.shape[0] * 100):.2f}%')\n",
        "\n",
        "  return num_correct / X_test.shape[0] * 100.0\n",
        "\n",
        "def train(X_train, Y_train, W, X_test, Y_test, epochs, learning_rate):\n",
        "\n",
        "  # For training progress graphs @ the end (LOE -> Loss over epoch) (AOE -> Accuracy over epoch)\n",
        "  LOE_Y = []\n",
        "  AOE_Y = []\n",
        "\n",
        "  for e in range(epochs):\n",
        "\n",
        "    # Forward propogation + MAE Loss calculation\n",
        "    loss = calc_loss(X_train, Y_train, W)\n",
        "    LOE_Y.append(round(loss.item(), 6))\n",
        "\n",
        "    loss.backward()\n",
        "\n",
        "    # Backpropogation\n",
        "    with torch.no_grad():\n",
        "      W.sub_(W.grad * learning_rate)\n",
        "      W.grad.zero_()\n",
        "\n",
        "    # Validation!\n",
        "    print(f\"Epoch {e}: \", end=\"\")\n",
        "    AOE_Y.append(validate(X_test, Y_test, W))\n",
        "\n",
        "  # Let's graph our models progress\n",
        "  x_axis = np.arange(epochs)\n",
        "  fig, axes = plt.subplots(1, 2, figsize=(6, 3))\n",
        "\n",
        "  # For LOE\n",
        "  axes[0].plot(x_axis, LOE_Y)\n",
        "  axes[0].set_title(\"Loss over Epocs\")\n",
        "  axes[0].set_xlabel(\"Epoch\")\n",
        "  axes[0].set_ylabel(\"Loss\")\n",
        "\n",
        "  axes[1].plot(x_axis, AOE_Y)\n",
        "  axes[1].set_title(\"Accuracy over Epocs\")\n",
        "  axes[1].set_xlabel(\"Epoch\")\n",
        "  axes[1].set_ylabel(\"Accuracy %\")\n",
        "\n",
        "  plt.tight_layout()\n",
        "\n",
        "  plt.show()\n",
        "\n",
        "\n"
      ],
      "metadata": {
        "id": "GvmpOo6Dvmq8"
      },
      "execution_count": null,
      "outputs": []
    },
    {
      "cell_type": "code",
      "source": [
        "# Train our \"model\" (more like training the weights LOL)\n",
        "train(x_train, y_train, W, x_test, y_test, 100, 30)"
      ],
      "metadata": {
        "colab": {
          "base_uri": "https://localhost:8080/",
          "height": 1000
        },
        "id": "2C90JizMedAV",
        "outputId": "ec7cda74-2ff1-4c31-a0b2-38a1fdfe0c72"
      },
      "execution_count": null,
      "outputs": [
        {
          "output_type": "stream",
          "name": "stdout",
          "text": [
            "Epoch 0: Accuracy: 21.66%\n",
            "Epoch 1: Accuracy: 30.05%\n",
            "Epoch 2: Accuracy: 35.74%\n",
            "Epoch 3: Accuracy: 38.69%\n",
            "Epoch 4: Accuracy: 40.26%\n",
            "Epoch 5: Accuracy: 41.29%\n",
            "Epoch 6: Accuracy: 42.29%\n",
            "Epoch 7: Accuracy: 42.94%\n",
            "Epoch 8: Accuracy: 43.74%\n",
            "Epoch 9: Accuracy: 44.11%\n",
            "Epoch 10: Accuracy: 44.51%\n",
            "Epoch 11: Accuracy: 44.84%\n",
            "Epoch 12: Accuracy: 45.21%\n",
            "Epoch 13: Accuracy: 45.39%\n",
            "Epoch 14: Accuracy: 45.59%\n",
            "Epoch 15: Accuracy: 45.84%\n",
            "Epoch 16: Accuracy: 46.05%\n",
            "Epoch 17: Accuracy: 46.14%\n",
            "Epoch 18: Accuracy: 46.26%\n",
            "Epoch 19: Accuracy: 46.37%\n",
            "Epoch 20: Accuracy: 46.50%\n",
            "Epoch 21: Accuracy: 46.62%\n",
            "Epoch 22: Accuracy: 46.79%\n",
            "Epoch 23: Accuracy: 47.08%\n",
            "Epoch 24: Accuracy: 47.43%\n",
            "Epoch 25: Accuracy: 47.75%\n",
            "Epoch 26: Accuracy: 48.34%\n",
            "Epoch 27: Accuracy: 48.79%\n",
            "Epoch 28: Accuracy: 49.18%\n",
            "Epoch 29: Accuracy: 49.62%\n",
            "Epoch 30: Accuracy: 50.41%\n",
            "Epoch 31: Accuracy: 51.16%\n",
            "Epoch 32: Accuracy: 51.85%\n",
            "Epoch 33: Accuracy: 52.40%\n",
            "Epoch 34: Accuracy: 52.79%\n",
            "Epoch 35: Accuracy: 53.27%\n",
            "Epoch 36: Accuracy: 53.82%\n",
            "Epoch 37: Accuracy: 54.20%\n",
            "Epoch 38: Accuracy: 54.43%\n",
            "Epoch 39: Accuracy: 54.65%\n",
            "Epoch 40: Accuracy: 54.85%\n",
            "Epoch 41: Accuracy: 55.01%\n",
            "Epoch 42: Accuracy: 55.22%\n",
            "Epoch 43: Accuracy: 55.35%\n",
            "Epoch 44: Accuracy: 55.58%\n",
            "Epoch 45: Accuracy: 55.67%\n",
            "Epoch 46: Accuracy: 55.77%\n",
            "Epoch 47: Accuracy: 55.87%\n",
            "Epoch 48: Accuracy: 56.06%\n",
            "Epoch 49: Accuracy: 56.18%\n",
            "Epoch 50: Accuracy: 56.37%\n",
            "Epoch 51: Accuracy: 56.68%\n",
            "Epoch 52: Accuracy: 56.91%\n",
            "Epoch 53: Accuracy: 57.21%\n",
            "Epoch 54: Accuracy: 57.43%\n",
            "Epoch 55: Accuracy: 57.65%\n",
            "Epoch 56: Accuracy: 57.82%\n",
            "Epoch 57: Accuracy: 58.00%\n",
            "Epoch 58: Accuracy: 58.20%\n",
            "Epoch 59: Accuracy: 58.29%\n",
            "Epoch 60: Accuracy: 58.41%\n",
            "Epoch 61: Accuracy: 58.60%\n",
            "Epoch 62: Accuracy: 58.80%\n",
            "Epoch 63: Accuracy: 58.86%\n",
            "Epoch 64: Accuracy: 58.96%\n",
            "Epoch 65: Accuracy: 59.13%\n",
            "Epoch 66: Accuracy: 59.27%\n",
            "Epoch 67: Accuracy: 59.34%\n",
            "Epoch 68: Accuracy: 59.46%\n",
            "Epoch 69: Accuracy: 59.55%\n",
            "Epoch 70: Accuracy: 59.76%\n",
            "Epoch 71: Accuracy: 59.88%\n",
            "Epoch 72: Accuracy: 59.99%\n",
            "Epoch 73: Accuracy: 60.22%\n",
            "Epoch 74: Accuracy: 60.51%\n",
            "Epoch 75: Accuracy: 60.61%\n",
            "Epoch 76: Accuracy: 60.80%\n",
            "Epoch 77: Accuracy: 61.00%\n",
            "Epoch 78: Accuracy: 61.20%\n",
            "Epoch 79: Accuracy: 61.37%\n",
            "Epoch 80: Accuracy: 61.52%\n",
            "Epoch 81: Accuracy: 61.56%\n",
            "Epoch 82: Accuracy: 61.76%\n",
            "Epoch 83: Accuracy: 62.01%\n",
            "Epoch 84: Accuracy: 62.09%\n",
            "Epoch 85: Accuracy: 62.18%\n",
            "Epoch 86: Accuracy: 62.25%\n",
            "Epoch 87: Accuracy: 62.29%\n",
            "Epoch 88: Accuracy: 62.36%\n",
            "Epoch 89: Accuracy: 62.44%\n",
            "Epoch 90: Accuracy: 62.53%\n",
            "Epoch 91: Accuracy: 62.58%\n",
            "Epoch 92: Accuracy: 62.65%\n",
            "Epoch 93: Accuracy: 62.76%\n",
            "Epoch 94: Accuracy: 62.83%\n",
            "Epoch 95: Accuracy: 62.86%\n",
            "Epoch 96: Accuracy: 62.90%\n",
            "Epoch 97: Accuracy: 62.93%\n",
            "Epoch 98: Accuracy: 63.00%\n",
            "Epoch 99: Accuracy: 63.05%\n"
          ]
        },
        {
          "output_type": "display_data",
          "data": {
            "text/plain": [
              "<Figure size 600x300 with 2 Axes>"
            ],
            "image/png": "[encoded data removed]"
          },
          "metadata": {}
        }
      ]
    },
    {
      "cell_type": "code",
      "source": [],
      "metadata": {
        "id": "u1jHCLjOk2Es"
      },
      "execution_count": null,
      "outputs": []
    }
  ]
}